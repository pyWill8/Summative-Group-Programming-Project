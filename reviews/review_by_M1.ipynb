{
 "cells": [
  {
   "cell_type": "markdown",
   "id": "fa90c4e1",
   "metadata": {},
   "source": [
    "# Team Member 1 Review"
   ]
  },
  {
   "cell_type": "markdown",
   "id": "a9fed85a",
   "metadata": {},
   "source": [
    "## Task Summary\n",
    "As Team Member 1, I was assigned the role of developing the function `extract_answers_sequence()` for inputting the results of each answer in the file by reading the selected answer for each question and creating a structured sequence of the answers. I also had to create the `write_answers_sequence` function to take all answer sequences with the student ID and write them to a file with the ordered list of answers saved. I also developed a fucntion to test my earlier code to ensure it was working properly."
   ]
  },
  {
   "cell_type": "markdown",
   "id": "113e4f61",
   "metadata": {},
   "source": [
    "## Code Review\n",
    "The code works by reading a the file path containg the answers for the quiz, then initialising an empty list to store the answer. It then opens the file and reads every line before closing. It then initialises a loop to iterate through all 100 questions followed by another loop to loop through each line in the file, then checking to see if the line starts with 'Question {q}' which is followed by another line to read the folllowing four lines of text to see what answer has been marked down. If there is an 'x' marking, the index of the loop is appened to the list to represent the answer to the question. The code then breaks and appends zero if the question has been left empty, then returning the list of answers. This completes the `extract_answers_sequence()`. For the second function, I take as paramaters the student ID and the list of answers, then performing a validation check to ensure that the list is of correct length 100. I then iteratively open each file and write to a new file to save the extracted sequence for further use, thus completing `write_answers_sequence`. I then print the list of the answers to ensure my code has worked correctly.\n"
   ]
  }
 ],
 "metadata": {
  "kernelspec": {
   "display_name": "Python 3",
   "language": "python",
   "name": "python3"
  },
  "language_info": {
   "name": "python",
   "version": "3.12.1"
  }
 },
 "nbformat": 4,
 "nbformat_minor": 5
}
