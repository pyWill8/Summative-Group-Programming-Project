# Review by Team Member 2

## Task Summary
I was responsible for writing the `download_answer_files` and `collate_answer_files` functions. 
The purpose was to retrieve and rename raw answer files from the cloud (Google Drive), and combine all respondent 
data into a unified file respectively. On top of this I included a function called 'convert_to_direct_link', the 
reason for this was that after mass selecting and copying the links on Google Drive i found that they were in an 
incorrect format after downloading, resulting in the files being saved to the data folder and subsequent output folder 
incorrectly. I had to change the output from HTML text.

## Code Review
The code works by inputting the URLs as a string, converting it to a list and then iteratively going through and editing 
each link so that its not in view mode. I then created the 'download_answer_files' function, in which i checked that the
data folder existed, if not it would be created. I then downloaded the file using the google download module, saving it 
to the data folder with the required name. I used a for loop to call this function for the number of respondents. 
Finally, I created the 'collate_answer_files' function to combine all the files in the data folder as one file. First, i saved the 
location in which i wanted the combined file to go to as a variable, then I opened the output file in write mode. From there I then 
iterated through the filenames in the data folder, checking that it wasnt the temporary file (Now deleted. It was used as a temporary 
file to create the folder). I then opened the file and inputted it into the 'collated_answers.txt', with an * between each file.

I think this method was largely efficient, however reproducibility could be an issue with larger numbers of files, as i had to 
manually select each file to then bulk get all the links.  
