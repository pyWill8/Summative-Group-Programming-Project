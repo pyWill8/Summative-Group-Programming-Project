{
 "cells": [
  {
   "cell_type": "markdown",
   "id": "c5f834fc",
   "metadata": {},
   "source": [
    "# Review by Team Member 3\n",
    "\n",
    "## Task Summary\n",
    "My task was to write the `generate_means_sequence()`and `visualize_data()` functions. For the `generate_means_sequence()` function, I had to use the `extract_answers_sequence()` function provided by Team Member 1 to process the data from `collated_answers.txt`.by Team Member 2, calculate the mean value of each questions, and output a list of 100 floats. For the `visualize_data（）` function, I have to visualizes the means sequence as a scatter plot (if n=1), and create a line plot (if n=2) with all lines for each individual answer based on the files from data folder."
   ]
  },
  {
   "cell_type": "markdown",
   "id": "8228353d",
   "metadata": {},
   "source": [
    "## Code Review\n",
    "The code works by splitting the combined answers from `collated_answers.txt` into individual blocks, and then generating a list of numeric answers for each respondent using the `extract_answers_sequence` function provided by Team Member 1. I used the regular expression module (re) to split the combined answer file, since each respondent's block is separated by a line containing *. Using `re.split()` is more robust than a simple split(\"*\"), because it can delete extra spaces or line breaks and so on. This is important because M1’s function expects each block to follow a specific format with a consistent number of lines. I then created some temporary files to store blocks because the function by Member 1 can only read files rather than a string. After gathering all 25 answer lists, finally I created the loops for mean value calculation for each question, ignoring unanswered ones.  \n",
    "The `visualize_data` function reads and extracts 25 respondent answer files from the `data` folder using M1's function. If n == 1, it calculates the mean of each question and plots it as a scatter plot. If n == 2, it plots each respondent's full answer sequence as a line.  \n",
    "To improve readability, I fine-tuned visual settings and used tight_layout() and xticks(); To make the visual outputs easier to access and review, I saved the plots into the `output` folder.\n"
   ]
  },
  {
   "cell_type": "markdown",
   "id": "cf01546f",
   "metadata": {},
   "source": [
    "## Analysis\n",
    "From the two plots, we can see some distinct and obvious patterns. From the scatter plot of mean value, we can observe that the average answers are mostly closed to whole numbers(1,2,3,4). This means that many respondents picked the same or closed answers for each question. Addtionally, the line plot shows that many respondents answered in a very repetitive way. For example, they might often choose answers in a cycle like 1-2-3-4 since most of the lines go up and down in a regular pattern like a zigzag or steps. Overall, the two graphs indicate that the questions might be designed in potential patterns, and that some respondents may do not engage seriously and answered in a fixed pattern, which may affect the variety of responses and the depth of analysis."
   ]
  }
 ],
 "metadata": {
  "kernelspec": {
   "display_name": "Python 3",
   "language": "python",
   "name": "python3"
  },
  "language_info": {
   "name": "python",
   "version": "3.12.1"
  }
 },
 "nbformat": 4,
 "nbformat_minor": 5
}
